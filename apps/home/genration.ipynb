{
 "cells": [
  {
   "cell_type": "code",
   "execution_count": 1,
   "metadata": {
    "id": "VfqWtOM3pYRq"
   },
   "outputs": [],
   "source": [
    "import tensorflow as tf\n",
    "import os\n",
    "import numpy as np\n",
    "import pandas as pd"
   ]
  },
  {
   "cell_type": "code",
   "execution_count": 2,
   "metadata": {
    "colab": {
     "base_uri": "https://localhost:8080/"
    },
    "id": "9JWRYYH3SeFR",
    "outputId": "5558425c-5361-4dbb-f925-b7fc6cd37ee0"
   },
   "outputs": [],
   "source": [
    "df=pd.read_csv(\"smart data update.csv\")\n",
    "\n"
   ]
  },
  {
   "cell_type": "code",
   "execution_count": 3,
   "metadata": {
    "colab": {
     "base_uri": "https://localhost:8080/",
     "height": 423
    },
    "id": "mSRub4hI2veY",
    "outputId": "e1c0498c-c20f-4ce2-8d32-3344714291ca"
   },
   "outputs": [
    {
     "data": {
      "text/html": [
       "<div>\n",
       "<style scoped>\n",
       "    .dataframe tbody tr th:only-of-type {\n",
       "        vertical-align: middle;\n",
       "    }\n",
       "\n",
       "    .dataframe tbody tr th {\n",
       "        vertical-align: top;\n",
       "    }\n",
       "\n",
       "    .dataframe thead th {\n",
       "        text-align: right;\n",
       "    }\n",
       "</style>\n",
       "<table border=\"1\" class=\"dataframe\">\n",
       "  <thead>\n",
       "    <tr style=\"text-align: right;\">\n",
       "      <th></th>\n",
       "      <th>x_Timestamp</th>\n",
       "      <th>t_kWh</th>\n",
       "      <th>z_Avg Voltage (Volt)</th>\n",
       "      <th>z_Avg Current (Amp)</th>\n",
       "      <th>y_Freq (Hz)</th>\n",
       "      <th>Date</th>\n",
       "      <th>Time</th>\n",
       "    </tr>\n",
       "  </thead>\n",
       "  <tbody>\n",
       "    <tr>\n",
       "      <th>0</th>\n",
       "      <td>2021-01-02 00:00:00</td>\n",
       "      <td>0.002</td>\n",
       "      <td>253.36</td>\n",
       "      <td>0.25</td>\n",
       "      <td>50.09</td>\n",
       "      <td>2021-01-02</td>\n",
       "      <td>00:00:00</td>\n",
       "    </tr>\n",
       "    <tr>\n",
       "      <th>1</th>\n",
       "      <td>2021-01-02 00:03:00</td>\n",
       "      <td>0.002</td>\n",
       "      <td>253.87</td>\n",
       "      <td>0.25</td>\n",
       "      <td>50.11</td>\n",
       "      <td>2021-01-02</td>\n",
       "      <td>00:03:00</td>\n",
       "    </tr>\n",
       "    <tr>\n",
       "      <th>2</th>\n",
       "      <td>2021-01-02 00:06:00</td>\n",
       "      <td>0.020</td>\n",
       "      <td>253.25</td>\n",
       "      <td>1.67</td>\n",
       "      <td>50.14</td>\n",
       "      <td>2021-01-02</td>\n",
       "      <td>00:06:00</td>\n",
       "    </tr>\n",
       "    <tr>\n",
       "      <th>3</th>\n",
       "      <td>2021-01-02 00:09:00</td>\n",
       "      <td>0.045</td>\n",
       "      <td>252.20</td>\n",
       "      <td>3.52</td>\n",
       "      <td>50.12</td>\n",
       "      <td>2021-01-02</td>\n",
       "      <td>00:09:00</td>\n",
       "    </tr>\n",
       "    <tr>\n",
       "      <th>4</th>\n",
       "      <td>2021-01-02 00:12:00</td>\n",
       "      <td>0.044</td>\n",
       "      <td>252.28</td>\n",
       "      <td>3.53</td>\n",
       "      <td>50.07</td>\n",
       "      <td>2021-01-02</td>\n",
       "      <td>00:12:00</td>\n",
       "    </tr>\n",
       "    <tr>\n",
       "      <th>...</th>\n",
       "      <td>...</td>\n",
       "      <td>...</td>\n",
       "      <td>...</td>\n",
       "      <td>...</td>\n",
       "      <td>...</td>\n",
       "      <td>...</td>\n",
       "      <td>...</td>\n",
       "    </tr>\n",
       "    <tr>\n",
       "      <th>18715</th>\n",
       "      <td>2021-03-07 23:45:00</td>\n",
       "      <td>0.016</td>\n",
       "      <td>248.51</td>\n",
       "      <td>1.45</td>\n",
       "      <td>49.99</td>\n",
       "      <td>2021-03-07</td>\n",
       "      <td>23:45:00</td>\n",
       "    </tr>\n",
       "    <tr>\n",
       "      <th>18716</th>\n",
       "      <td>2021-03-07 23:48:00</td>\n",
       "      <td>0.017</td>\n",
       "      <td>248.58</td>\n",
       "      <td>1.45</td>\n",
       "      <td>50.02</td>\n",
       "      <td>2021-03-07</td>\n",
       "      <td>23:48:00</td>\n",
       "    </tr>\n",
       "    <tr>\n",
       "      <th>18717</th>\n",
       "      <td>2021-03-07 23:51:00</td>\n",
       "      <td>0.017</td>\n",
       "      <td>248.48</td>\n",
       "      <td>1.46</td>\n",
       "      <td>50.04</td>\n",
       "      <td>2021-03-07</td>\n",
       "      <td>23:51:00</td>\n",
       "    </tr>\n",
       "    <tr>\n",
       "      <th>18718</th>\n",
       "      <td>2021-03-07 23:54:00</td>\n",
       "      <td>0.016</td>\n",
       "      <td>248.39</td>\n",
       "      <td>1.42</td>\n",
       "      <td>50.00</td>\n",
       "      <td>2021-03-07</td>\n",
       "      <td>23:54:00</td>\n",
       "    </tr>\n",
       "    <tr>\n",
       "      <th>18719</th>\n",
       "      <td>2021-03-07 23:57:00</td>\n",
       "      <td>0.015</td>\n",
       "      <td>248.63</td>\n",
       "      <td>1.33</td>\n",
       "      <td>50.02</td>\n",
       "      <td>2021-03-07</td>\n",
       "      <td>23:57:00</td>\n",
       "    </tr>\n",
       "  </tbody>\n",
       "</table>\n",
       "<p>18720 rows × 7 columns</p>\n",
       "</div>"
      ],
      "text/plain": [
       "               x_Timestamp  t_kWh  z_Avg Voltage (Volt)  z_Avg Current (Amp)  \\\n",
       "0      2021-01-02 00:00:00  0.002                253.36                 0.25   \n",
       "1      2021-01-02 00:03:00  0.002                253.87                 0.25   \n",
       "2      2021-01-02 00:06:00  0.020                253.25                 1.67   \n",
       "3      2021-01-02 00:09:00  0.045                252.20                 3.52   \n",
       "4      2021-01-02 00:12:00  0.044                252.28                 3.53   \n",
       "...                    ...    ...                   ...                  ...   \n",
       "18715  2021-03-07 23:45:00  0.016                248.51                 1.45   \n",
       "18716  2021-03-07 23:48:00  0.017                248.58                 1.45   \n",
       "18717  2021-03-07 23:51:00  0.017                248.48                 1.46   \n",
       "18718  2021-03-07 23:54:00  0.016                248.39                 1.42   \n",
       "18719  2021-03-07 23:57:00  0.015                248.63                 1.33   \n",
       "\n",
       "       y_Freq (Hz)        Date      Time  \n",
       "0            50.09  2021-01-02  00:00:00  \n",
       "1            50.11  2021-01-02  00:03:00  \n",
       "2            50.14  2021-01-02  00:06:00  \n",
       "3            50.12  2021-01-02  00:09:00  \n",
       "4            50.07  2021-01-02  00:12:00  \n",
       "...            ...         ...       ...  \n",
       "18715        49.99  2021-03-07  23:45:00  \n",
       "18716        50.02  2021-03-07  23:48:00  \n",
       "18717        50.04  2021-03-07  23:51:00  \n",
       "18718        50.00  2021-03-07  23:54:00  \n",
       "18719        50.02  2021-03-07  23:57:00  \n",
       "\n",
       "[18720 rows x 7 columns]"
      ]
     },
     "execution_count": 3,
     "metadata": {},
     "output_type": "execute_result"
    }
   ],
   "source": [
    "df\n"
   ]
  },
  {
   "cell_type": "code",
   "execution_count": 4,
   "metadata": {
    "id": "3IlJNq1w2wwZ"
   },
   "outputs": [],
   "source": [
    "df=df.drop(['x_Timestamp'], axis=1)"
   ]
  },
  {
   "cell_type": "code",
   "execution_count": 5,
   "metadata": {
    "colab": {
     "base_uri": "https://localhost:8080/",
     "height": 423
    },
    "id": "uOiQG5Sg25R1",
    "outputId": "5b8c8c8d-b8fa-4383-c4da-4a8c62d7be51"
   },
   "outputs": [
    {
     "data": {
      "text/html": [
       "<div>\n",
       "<style scoped>\n",
       "    .dataframe tbody tr th:only-of-type {\n",
       "        vertical-align: middle;\n",
       "    }\n",
       "\n",
       "    .dataframe tbody tr th {\n",
       "        vertical-align: top;\n",
       "    }\n",
       "\n",
       "    .dataframe thead th {\n",
       "        text-align: right;\n",
       "    }\n",
       "</style>\n",
       "<table border=\"1\" class=\"dataframe\">\n",
       "  <thead>\n",
       "    <tr style=\"text-align: right;\">\n",
       "      <th></th>\n",
       "      <th>t_kWh</th>\n",
       "      <th>z_Avg Voltage (Volt)</th>\n",
       "      <th>z_Avg Current (Amp)</th>\n",
       "      <th>y_Freq (Hz)</th>\n",
       "      <th>Date</th>\n",
       "      <th>Time</th>\n",
       "    </tr>\n",
       "  </thead>\n",
       "  <tbody>\n",
       "    <tr>\n",
       "      <th>0</th>\n",
       "      <td>0.002</td>\n",
       "      <td>253.36</td>\n",
       "      <td>0.25</td>\n",
       "      <td>50.09</td>\n",
       "      <td>2021-01-02</td>\n",
       "      <td>00:00:00</td>\n",
       "    </tr>\n",
       "    <tr>\n",
       "      <th>1</th>\n",
       "      <td>0.002</td>\n",
       "      <td>253.87</td>\n",
       "      <td>0.25</td>\n",
       "      <td>50.11</td>\n",
       "      <td>2021-01-02</td>\n",
       "      <td>00:03:00</td>\n",
       "    </tr>\n",
       "    <tr>\n",
       "      <th>2</th>\n",
       "      <td>0.020</td>\n",
       "      <td>253.25</td>\n",
       "      <td>1.67</td>\n",
       "      <td>50.14</td>\n",
       "      <td>2021-01-02</td>\n",
       "      <td>00:06:00</td>\n",
       "    </tr>\n",
       "    <tr>\n",
       "      <th>3</th>\n",
       "      <td>0.045</td>\n",
       "      <td>252.20</td>\n",
       "      <td>3.52</td>\n",
       "      <td>50.12</td>\n",
       "      <td>2021-01-02</td>\n",
       "      <td>00:09:00</td>\n",
       "    </tr>\n",
       "    <tr>\n",
       "      <th>4</th>\n",
       "      <td>0.044</td>\n",
       "      <td>252.28</td>\n",
       "      <td>3.53</td>\n",
       "      <td>50.07</td>\n",
       "      <td>2021-01-02</td>\n",
       "      <td>00:12:00</td>\n",
       "    </tr>\n",
       "    <tr>\n",
       "      <th>...</th>\n",
       "      <td>...</td>\n",
       "      <td>...</td>\n",
       "      <td>...</td>\n",
       "      <td>...</td>\n",
       "      <td>...</td>\n",
       "      <td>...</td>\n",
       "    </tr>\n",
       "    <tr>\n",
       "      <th>18715</th>\n",
       "      <td>0.016</td>\n",
       "      <td>248.51</td>\n",
       "      <td>1.45</td>\n",
       "      <td>49.99</td>\n",
       "      <td>2021-03-07</td>\n",
       "      <td>23:45:00</td>\n",
       "    </tr>\n",
       "    <tr>\n",
       "      <th>18716</th>\n",
       "      <td>0.017</td>\n",
       "      <td>248.58</td>\n",
       "      <td>1.45</td>\n",
       "      <td>50.02</td>\n",
       "      <td>2021-03-07</td>\n",
       "      <td>23:48:00</td>\n",
       "    </tr>\n",
       "    <tr>\n",
       "      <th>18717</th>\n",
       "      <td>0.017</td>\n",
       "      <td>248.48</td>\n",
       "      <td>1.46</td>\n",
       "      <td>50.04</td>\n",
       "      <td>2021-03-07</td>\n",
       "      <td>23:51:00</td>\n",
       "    </tr>\n",
       "    <tr>\n",
       "      <th>18718</th>\n",
       "      <td>0.016</td>\n",
       "      <td>248.39</td>\n",
       "      <td>1.42</td>\n",
       "      <td>50.00</td>\n",
       "      <td>2021-03-07</td>\n",
       "      <td>23:54:00</td>\n",
       "    </tr>\n",
       "    <tr>\n",
       "      <th>18719</th>\n",
       "      <td>0.015</td>\n",
       "      <td>248.63</td>\n",
       "      <td>1.33</td>\n",
       "      <td>50.02</td>\n",
       "      <td>2021-03-07</td>\n",
       "      <td>23:57:00</td>\n",
       "    </tr>\n",
       "  </tbody>\n",
       "</table>\n",
       "<p>18720 rows × 6 columns</p>\n",
       "</div>"
      ],
      "text/plain": [
       "       t_kWh  z_Avg Voltage (Volt)  z_Avg Current (Amp)  y_Freq (Hz)  \\\n",
       "0      0.002                253.36                 0.25        50.09   \n",
       "1      0.002                253.87                 0.25        50.11   \n",
       "2      0.020                253.25                 1.67        50.14   \n",
       "3      0.045                252.20                 3.52        50.12   \n",
       "4      0.044                252.28                 3.53        50.07   \n",
       "...      ...                   ...                  ...          ...   \n",
       "18715  0.016                248.51                 1.45        49.99   \n",
       "18716  0.017                248.58                 1.45        50.02   \n",
       "18717  0.017                248.48                 1.46        50.04   \n",
       "18718  0.016                248.39                 1.42        50.00   \n",
       "18719  0.015                248.63                 1.33        50.02   \n",
       "\n",
       "             Date      Time  \n",
       "0      2021-01-02  00:00:00  \n",
       "1      2021-01-02  00:03:00  \n",
       "2      2021-01-02  00:06:00  \n",
       "3      2021-01-02  00:09:00  \n",
       "4      2021-01-02  00:12:00  \n",
       "...           ...       ...  \n",
       "18715  2021-03-07  23:45:00  \n",
       "18716  2021-03-07  23:48:00  \n",
       "18717  2021-03-07  23:51:00  \n",
       "18718  2021-03-07  23:54:00  \n",
       "18719  2021-03-07  23:57:00  \n",
       "\n",
       "[18720 rows x 6 columns]"
      ]
     },
     "execution_count": 5,
     "metadata": {},
     "output_type": "execute_result"
    }
   ],
   "source": [
    "df\n"
   ]
  },
  {
   "cell_type": "code",
   "execution_count": 6,
   "metadata": {
    "id": "a4gYxRPY3gtT"
   },
   "outputs": [],
   "source": [
    "def convert(a):\n",
    "    a = str(a)  # cast to string\n",
    "    b = a[0:2]+\".\"+a[3:5] # last four characters\n",
    "    return float(b)\n",
    "\n",
    "df['Time'] = df['Time'].apply(convert)"
   ]
  },
  {
   "cell_type": "code",
   "execution_count": 7,
   "metadata": {
    "id": "oAr5ytCT3qfr"
   },
   "outputs": [],
   "source": [
    "def convert(a):\n",
    "    a = str(a)  # cast to string\n",
    "    b = a[5:7]+\".\"+a[8:10] # last four characters\n",
    "    return float(b)\n",
    "\n",
    "df['Date'] = df['Date'].apply(convert)"
   ]
  },
  {
   "cell_type": "code",
   "execution_count": 8,
   "metadata": {
    "id": "EYBtjCu926hg"
   },
   "outputs": [],
   "source": [
    "X = df[['t_kWh','z_Avg Current (Amp)','y_Freq (Hz)','Date','Time']].values\n",
    "y = df['z_Avg Voltage (Volt)'].values\n",
    "  \n",
    "from sklearn.model_selection import train_test_split\n",
    "  \n",
    "X_train, X_test, y_train, y_test = train_test_split(X, y, test_size=0.33,shuffle=False,random_state=None)\n",
    "pq=y_test\n",
    "qp=X_test"
   ]
  },
  {
   "cell_type": "code",
   "execution_count": 9,
   "metadata": {
    "id": "HJEZj-qC4EzN"
   },
   "outputs": [],
   "source": [
    "from keras.models import Sequential\n",
    "from keras.layers import Dense, SimpleRNN\n",
    "from keras.callbacks import EarlyStopping\n",
    "\n",
    "model=Sequential()\n",
    "model.add(SimpleRNN(units=32, activation=\"relu\"))\n",
    "model.add(Dense(8, activation='relu'))\n",
    "model.add(Dense(1))\n",
    "model.compile(loss='mean_squared_error',  optimizer='adam',metrics = ['mse', 'mae'])"
   ]
  },
  {
   "cell_type": "code",
   "execution_count": 10,
   "metadata": {
    "id": "UXdMcJFk4mHo"
   },
   "outputs": [],
   "source": [
    "X_train = X_train.reshape(-1, 1, 5)\n",
    "X_test  = X_test.reshape(-1, 1, 5)\n",
    "y_train = y_train.reshape(-1, 1, 1)\n",
    "y_test = y_test.reshape(-1, 1, 1)\n"
   ]
  },
  {
   "cell_type": "code",
   "execution_count": null,
   "metadata": {
    "colab": {
     "base_uri": "https://localhost:8080/"
    },
    "id": "enB2EBKc4st5",
    "outputId": "819b597e-8cb1-4211-9f78-37446229f514"
   },
   "outputs": [
    {
     "name": "stderr",
     "output_type": "stream",
     "text": [
      "C:\\Users\\sumit\\anaconda3\\lib\\site-packages\\tensorflow\\python\\data\\ops\\dataset_ops.py:4526: UserWarning: Even though the `tf.config.experimental_run_functions_eagerly` option is set, this option does not apply to tf.data functions. To force eager execution of tf.data functions, please use `tf.data.experimental.enable_debug_mode()`.\n",
      "  warnings.warn(\n"
     ]
    },
    {
     "name": "stdout",
     "output_type": "stream",
     "text": [
      "Epoch 1/100\n",
      "392/392 [==============================] - 18s 45ms/step - loss: 25875.5234 - mse: 25875.5234 - mae: 134.2284 - val_loss: 317.5203 - val_mse: 317.5203 - val_mae: 15.3863\n",
      "Epoch 2/100\n",
      "392/392 [==============================] - 20s 50ms/step - loss: 177.4324 - mse: 177.4324 - mae: 10.3456 - val_loss: 36.0624 - val_mse: 36.0624 - val_mae: 4.8645\n",
      "Epoch 3/100\n",
      "392/392 [==============================] - 17s 42ms/step - loss: 37.6265 - mse: 37.6265 - mae: 5.0676 - val_loss: 29.1019 - val_mse: 29.1019 - val_mae: 4.0893- loss: 38.0057 - mse: 38.0057 - mae\n",
      "Epoch 4/100\n",
      "392/392 [==============================] - 17s 43ms/step - loss: 29.9753 - mse: 29.9753 - mae: 4.3974 - val_loss: 28.5166 - val_mse: 28.5166 - val_mae: 4.0073\n",
      "Epoch 5/100\n",
      "391/392 [============================>.] - ETA: 0s - loss: 28.3128 - mse: 28.3128 - mae: 4.2228"
     ]
    }
   ],
   "source": [
    "import tensorflow as tf\n",
    "tf.config.run_functions_eagerly(True)\n",
    "\n",
    "model.fit(x=X_train, y=y_train, epochs=100,validation_data=(X_test,y_test),shuffle=False)"
   ]
  },
  {
   "cell_type": "code",
   "execution_count": null,
   "metadata": {
    "colab": {
     "base_uri": "https://localhost:8080/",
     "height": 448
    },
    "id": "Iw_6ngor4wLM",
    "outputId": "d5caee50-6122-4374-f126-383cc612e82f"
   },
   "outputs": [
    {
     "data": {
      "text/plain": [
       "<Axes: >"
      ]
     },
     "execution_count": 38,
     "metadata": {},
     "output_type": "execute_result"
    },
    {
     "data": {
      "image/png": "[encoded data removed]",
      "text/plain": [
       "<Figure size 640x480 with 1 Axes>"
      ]
     },
     "metadata": {},
     "output_type": "display_data"
    }
   ],
   "source": [
    "model_losses = pd.DataFrame(model.history.history)\n",
    "model_losses.plot()"
   ]
  },
  {
   "cell_type": "code",
   "execution_count": null,
   "metadata": {
    "colab": {
     "base_uri": "https://localhost:8080/",
     "height": 217
    },
    "id": "hyNYq29-6dl5",
    "outputId": "6d2b8a53-bdd6-4a05-da56-1afd185448e6"
   },
   "outputs": [
    {
     "name": "stdout",
     "output_type": "stream",
     "text": [
      "  6/194 [..............................] - ETA: 2s"
     ]
    },
    {
     "name": "stderr",
     "output_type": "stream",
     "text": [
      "/usr/local/lib/python3.10/dist-packages/tensorflow/python/data/ops/structured_function.py:254: UserWarning: Even though the `tf.config.experimental_run_functions_eagerly` option is set, this option does not apply to tf.data functions. To force eager execution of tf.data functions, please use `tf.data.experimental.enable_debug_mode()`.\n",
      "  warnings.warn(\n"
     ]
    },
    {
     "name": "stdout",
     "output_type": "stream",
     "text": [
      "194/194 [==============================] - 2s 10ms/step\n"
     ]
    },
    {
     "data": {
      "text/html": [
       "\n",
       "  <div id=\"df-fb46280c-143e-442e-9e87-9983f9a61ab8\">\n",
       "    <div class=\"colab-df-container\">\n",
       "      <div>\n",
       "<style scoped>\n",
       "    .dataframe tbody tr th:only-of-type {\n",
       "        vertical-align: middle;\n",
       "    }\n",
       "\n",
       "    .dataframe tbody tr th {\n",
       "        vertical-align: top;\n",
       "    }\n",
       "\n",
       "    .dataframe thead th {\n",
       "        text-align: right;\n",
       "    }\n",
       "</style>\n",
       "<table border=\"1\" class=\"dataframe\">\n",
       "  <thead>\n",
       "    <tr style=\"text-align: right;\">\n",
       "      <th></th>\n",
       "      <th>Predict</th>\n",
       "      <th>Actual</th>\n",
       "      <th>Date</th>\n",
       "      <th>Time</th>\n",
       "      <th>t_kWh</th>\n",
       "      <th>z_Avg Current (Amp)</th>\n",
       "      <th>y_Freq (Hz)</th>\n",
       "    </tr>\n",
       "  </thead>\n",
       "  <tbody>\n",
       "    <tr>\n",
       "      <th>0</th>\n",
       "      <td>258.334167</td>\n",
       "      <td>256.10</td>\n",
       "      <td>0.001</td>\n",
       "      <td>0.13</td>\n",
       "      <td>49.98</td>\n",
       "      <td>2.22</td>\n",
       "      <td>3.06</td>\n",
       "    </tr>\n",
       "    <tr>\n",
       "      <th>1</th>\n",
       "      <td>258.509674</td>\n",
       "      <td>256.03</td>\n",
       "      <td>0.001</td>\n",
       "      <td>0.13</td>\n",
       "      <td>50.01</td>\n",
       "      <td>2.22</td>\n",
       "      <td>3.09</td>\n",
       "    </tr>\n",
       "    <tr>\n",
       "      <th>2</th>\n",
       "      <td>258.644165</td>\n",
       "      <td>255.95</td>\n",
       "      <td>0.001</td>\n",
       "      <td>0.15</td>\n",
       "      <td>50.04</td>\n",
       "      <td>2.22</td>\n",
       "      <td>3.12</td>\n",
       "    </tr>\n",
       "  </tbody>\n",
       "</table>\n",
       "</div>\n",
       "      <button class=\"colab-df-convert\" onclick=\"convertToInteractive('df-fb46280c-143e-442e-9e87-9983f9a61ab8')\"\n",
       "              title=\"Convert this dataframe to an interactive table.\"\n",
       "              style=\"display:none;\">\n",
       "        \n",
       "  <svg xmlns=\"http://www.w3.org/2000/svg\" height=\"24px\"viewBox=\"0 0 24 24\"\n",
       "       width=\"24px\">\n",
       "    <path d=\"M0 0h24v24H0V0z\" fill=\"none\"/>\n",
       "    <path d=\"M18.56 5.44l.94 2.06.94-2.06 2.06-.94-2.06-.94-.94-2.06-.94 2.06-2.06.94zm-11 1L8.5 8.5l.94-2.06 2.06-.94-2.06-.94L8.5 2.5l-.94 2.06-2.06.94zm10 10l.94 2.06.94-2.06 2.06-.94-2.06-.94-.94-2.06-.94 2.06-2.06.94z\"/><path d=\"M17.41 7.96l-1.37-1.37c-.4-.4-.92-.59-1.43-.59-.52 0-1.04.2-1.43.59L10.3 9.45l-7.72 7.72c-.78.78-.78 2.05 0 2.83L4 21.41c.39.39.9.59 1.41.59.51 0 1.02-.2 1.41-.59l7.78-7.78 2.81-2.81c.8-.78.8-2.07 0-2.86zM5.41 20L4 18.59l7.72-7.72 1.47 1.35L5.41 20z\"/>\n",
       "  </svg>\n",
       "      </button>\n",
       "      \n",
       "  <style>\n",
       "    .colab-df-container {\n",
       "      display:flex;\n",
       "      flex-wrap:wrap;\n",
       "      gap: 12px;\n",
       "    }\n",
       "\n",
       "    .colab-df-convert {\n",
       "      background-color: #E8F0FE;\n",
       "      border: none;\n",
       "      border-radius: 50%;\n",
       "      cursor: pointer;\n",
       "      display: none;\n",
       "      fill: #1967D2;\n",
       "      height: 32px;\n",
       "      padding: 0 0 0 0;\n",
       "      width: 32px;\n",
       "    }\n",
       "\n",
       "    .colab-df-convert:hover {\n",
       "      background-color: #E2EBFA;\n",
       "      box-shadow: 0px 1px 2px rgba(60, 64, 67, 0.3), 0px 1px 3px 1px rgba(60, 64, 67, 0.15);\n",
       "      fill: #174EA6;\n",
       "    }\n",
       "\n",
       "    [theme=dark] .colab-df-convert {\n",
       "      background-color: #3B4455;\n",
       "      fill: #D2E3FC;\n",
       "    }\n",
       "\n",
       "    [theme=dark] .colab-df-convert:hover {\n",
       "      background-color: #434B5C;\n",
       "      box-shadow: 0px 1px 3px 1px rgba(0, 0, 0, 0.15);\n",
       "      filter: drop-shadow(0px 1px 2px rgba(0, 0, 0, 0.3));\n",
       "      fill: #FFFFFF;\n",
       "    }\n",
       "  </style>\n",
       "\n",
       "      <script>\n",
       "        const buttonEl =\n",
       "          document.querySelector('#df-fb46280c-143e-442e-9e87-9983f9a61ab8 button.colab-df-convert');\n",
       "        buttonEl.style.display =\n",
       "          google.colab.kernel.accessAllowed ? 'block' : 'none';\n",
       "\n",
       "        async function convertToInteractive(key) {\n",
       "          const element = document.querySelector('#df-fb46280c-143e-442e-9e87-9983f9a61ab8');\n",
       "          const dataTable =\n",
       "            await google.colab.kernel.invokeFunction('convertToInteractive',\n",
       "                                                     [key], {});\n",
       "          if (!dataTable) return;\n",
       "\n",
       "          const docLinkHtml = 'Like what you see? Visit the ' +\n",
       "            '<a target=\"_blank\" href=https://colab.research.google.com/notebooks/data_table.ipynb>data table notebook</a>'\n",
       "            + ' to learn more about interactive tables.';\n",
       "          element.innerHTML = '';\n",
       "          dataTable['output_type'] = 'display_data';\n",
       "          await google.colab.output.renderOutput(dataTable, element);\n",
       "          const docLink = document.createElement('div');\n",
       "          docLink.innerHTML = docLinkHtml;\n",
       "          element.appendChild(docLink);\n",
       "        }\n",
       "      </script>\n",
       "    </div>\n",
       "  </div>\n",
       "  "
      ],
      "text/plain": [
       "      Predict  Actual   Date  Time  t_kWh  z_Avg Current (Amp)  y_Freq (Hz)\n",
       "0  258.334167  256.10  0.001  0.13  49.98                 2.22         3.06\n",
       "1  258.509674  256.03  0.001  0.13  50.01                 2.22         3.09\n",
       "2  258.644165  255.95  0.001  0.15  50.04                 2.22         3.12"
      ]
     },
     "execution_count": 39,
     "metadata": {},
     "output_type": "execute_result"
    }
   ],
   "source": [
    "predictions = model.predict(X_test)\n",
    "sample = pd.DataFrame(predictions,columns=['Predict'])\n",
    "sample['Actual']=pq\n",
    "sample[['Date','Time','t_kWh','z_Avg Current (Amp)','y_Freq (Hz)']]=qp\n",
    "sample.head(3)"
   ]
  },
  {
   "cell_type": "code",
   "execution_count": null,
   "metadata": {
    "id": "1T1V_dZO7tsG"
   },
   "outputs": [],
   "source": []
  }
 ],
 "metadata": {
  "colab": {
   "provenance": []
  },
  "kernelspec": {
   "display_name": "Python 3 (ipykernel)",
   "language": "python",
   "name": "python3"
  },
  "language_info": {
   "codemirror_mode": {
    "name": "ipython",
    "version": 3
   },
   "file_extension": ".py",
   "mimetype": "text/x-python",
   "name": "python",
   "nbconvert_exporter": "python",
   "pygments_lexer": "ipython3",
   "version": "3.9.7"
  }
 },
 "nbformat": 4,
 "nbformat_minor": 1
}
